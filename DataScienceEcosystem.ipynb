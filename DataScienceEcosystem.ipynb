{
 "cells": [
  {
   "cell_type": "markdown",
   "id": "0d020e02-9957-4006-99f4-6525281548dc",
   "metadata": {},
   "source": [
    " # Data Science Tools and Ecosystem "
   ]
  },
  {
   "cell_type": "markdown",
   "id": "53c28378-ceee-49b0-b3e6-e6595113db43",
   "metadata": {},
   "source": [
    "# In this notebook, Data Science Tools and Ecosystem are summarized."
   ]
  },
  {
   "cell_type": "code",
   "execution_count": null,
   "id": "9254b4db-1751-457b-869b-2a172ced79ec",
   "metadata": {},
   "outputs": [],
   "source": [
    "# popular data science languages\n",
    "1. Python\n",
    "2. R\n",
    "3. C++\n",
    "4. Julia"
   ]
  },
  {
   "cell_type": "code",
   "execution_count": null,
   "id": "4449237d-8871-4b0d-b985-ed374d9cb9d5",
   "metadata": {},
   "outputs": [],
   "source": [
    "# librariesof data science\n",
    "1. Numpy\n",
    "2. Pandas\n",
    "3. Matplotib"
   ]
  },
  {
   "cell_type": "markdown",
   "id": "c2cb9708-42c2-4577-bb8b-04b178f11449",
   "metadata": {},
   "source": [
    "# Tools of data science \n",
    "1. Tableau\n",
    "2. Apache Hadoop\n",
    "3. Jupyter Notebook"
   ]
  },
  {
   "cell_type": "code",
   "execution_count": 1,
   "id": "5f3de2f8-7795-4ed1-be04-1d9da44a356c",
   "metadata": {},
   "outputs": [
    {
     "data": {
      "text/plain": [
       "17"
      ]
     },
     "execution_count": 1,
     "metadata": {},
     "output_type": "execute_result"
    }
   ],
   "source": [
    "# this a simple arithmetic expression to mutiply then add integers\n",
    "\n",
    "(3*4)+5"
   ]
  },
  {
   "cell_type": "code",
   "execution_count": 2,
   "id": "0956f410-66e7-4d0a-9b1f-72269d962374",
   "metadata": {},
   "outputs": [
    {
     "data": {
      "text/plain": [
       "3.3333333333333335"
      ]
     },
     "execution_count": 2,
     "metadata": {},
     "output_type": "execute_result"
    }
   ],
   "source": [
    "# This will convert 200 minutes to hours by diving by 60.\n",
    "200 / 60"
   ]
  },
  {
   "cell_type": "markdown",
   "id": "be7c56ba-f044-4ea2-9f36-898a529f0ce6",
   "metadata": {},
   "source": [
    " objectives\n",
    " - Languages of data science\n",
    " - Libraries of data science\n",
    " - Tools of data science"
   ]
  },
  {
   "cell_type": "markdown",
   "id": "d151f073-605e-4064-9b23-088ce91eb25f",
   "metadata": {},
   "source": [
    "## Author\n",
    "Jahanvi Dave"
   ]
  },
  {
   "cell_type": "code",
   "execution_count": null,
   "id": "c1551a6c-381b-497b-8d4c-bd2a6ea31570",
   "metadata": {},
   "outputs": [],
   "source": []
  }
 ],
 "metadata": {
  "kernelspec": {
   "display_name": "Python 3 (ipykernel)",
   "language": "python",
   "name": "python3"
  },
  "language_info": {
   "codemirror_mode": {
    "name": "ipython",
    "version": 3
   },
   "file_extension": ".py",
   "mimetype": "text/x-python",
   "name": "python",
   "nbconvert_exporter": "python",
   "pygments_lexer": "ipython3",
   "version": "3.11.9"
  }
 },
 "nbformat": 4,
 "nbformat_minor": 5
}
